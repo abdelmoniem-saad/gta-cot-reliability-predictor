{
 "cells": [
  {
   "cell_type": "code",
   "execution_count": 1,
   "id": "8d62e5fa",
   "metadata": {},
   "outputs": [
    {
     "name": "stderr",
     "output_type": "stream",
     "text": [
      "C:\\Users\\Basmala Kamal\\AppData\\Local\\Packages\\PythonSoftwareFoundation.Python.3.13_qbz5n2kfra8p0\\LocalCache\\local-packages\\Python313\\site-packages\\tqdm\\auto.py:21: TqdmWarning: IProgress not found. Please update jupyter and ipywidgets. See https://ipywidgets.readthedocs.io/en/stable/user_install.html\n",
      "  from .autonotebook import tqdm as notebook_tqdm\n"
     ]
    }
   ],
   "source": [
    "from datasets import load_dataset\n",
    "\n",
    "# Login using e.g. `huggingface-cli login` to access this dataset\n",
    "ds = load_dataset(\"RJT1990/GeneralThoughtArchive\")"
   ]
  },
  {
   "cell_type": "code",
   "execution_count": 2,
   "id": "abf56b4f",
   "metadata": {},
   "outputs": [],
   "source": [
    "import pandas as pd\n",
    "import numpy as np"
   ]
  },
  {
   "cell_type": "code",
   "execution_count": 3,
   "id": "f819da52",
   "metadata": {},
   "outputs": [
    {
     "name": "stdout",
     "output_type": "stream",
     "text": [
      "   question_id                                       question_url  \\\n",
      "0       806845  https://gr.inc/question/how-do-the-neural-resp...   \n",
      "1      1730456  https://gr.inc/question/lets-consider-some-arr...   \n",
      "2      3236068  https://gr.inc/question/what-are-the-primary-c...   \n",
      "3      1717140  https://gr.inc/question/consider-a-football-to...   \n",
      "4      3235833  https://gr.inc/question/given-the-context-of-h...   \n",
      "\n",
      "                                            question  \\\n",
      "0     How do the neural respiratory centers operate?   \n",
      "1  Let's consider some array A. The following alg...   \n",
      "2  What are the primary criticisms Aristotle rais...   \n",
      "3  Consider a football tournament where n teams p...   \n",
      "4  Given the context of Heidegger's philosophy, p...   \n",
      "\n",
      "                                    reference_answer prev_messages  \\\n",
      "0  In the medulla oblongata, respiratory neurons ...          None   \n",
      "1                                               None          None   \n",
      "2  Aristotle's criticisms of Plato's theory of fo...          None   \n",
      "3                                               None          None   \n",
      "4  The anticipation of death as a possibility is ...          None   \n",
      "\n",
      "             model_name                                       model_answer  \\\n",
      "0  DeepSeek/DeepSeek-R1  The neural respiratory centers operate through...   \n",
      "1  DeepSeek/DeepSeek-R1  ```python\\nimport sys\\nfrom collections import...   \n",
      "2  DeepSeek/DeepSeek-R1  Aristotle's criticisms of Plato's Theory of Fo...   \n",
      "3  DeepSeek/DeepSeek-R1  ```python\\nfrom collections import Counter\\n\\n...   \n",
      "4  DeepSeek/DeepSeek-R1  In Heidegger's philosophy, particularly throug...   \n",
      "\n",
      "                                     model_reasoning               task  \\\n",
      "0  Okay, so I need to figure out how the neural r...      Human Biology   \n",
      "1  Okay, let's see. I need to find the maximum po...  Greedy algorithms   \n",
      "2  Okay, so I need to figure out what Aristotle's...         Philosophy   \n",
      "3  Okay, let's see. I need to solve this programm...    Complete search   \n",
      "4  Okay, so I need to explain how anticipating de...         Philosophy   \n",
      "\n",
      "  question_license         question_source  community_answer_score  \\\n",
      "0              MIT            General/VNet                       0   \n",
      "1       Apache-2.0               BAAI/TACO                       0   \n",
      "2  CC-BY-NC-SA-4.0  Meta/natural_reasoning                       0   \n",
      "3       Apache-2.0               BAAI/TACO                       0   \n",
      "4  CC-BY-NC-SA-4.0  Meta/natural_reasoning                       0   \n",
      "\n",
      "   community_question_score  verifier_score  \n",
      "0                         0             NaN  \n",
      "1                         0             NaN  \n",
      "2                         0             NaN  \n",
      "3                         0             NaN  \n",
      "4                         0             NaN  \n"
     ]
    }
   ],
   "source": [
    "df = pd.DataFrame(ds['train'])\n",
    "print(df.head())"
   ]
  },
  {
   "cell_type": "code",
   "execution_count": 5,
   "id": "791f2aa2",
   "metadata": {},
   "outputs": [
    {
     "data": {
      "text/plain": [
       "(430788, 14)"
      ]
     },
     "execution_count": 5,
     "metadata": {},
     "output_type": "execute_result"
    }
   ],
   "source": [
    "df.shape"
   ]
  },
  {
   "cell_type": "code",
   "execution_count": 6,
   "id": "776da16d",
   "metadata": {},
   "outputs": [
    {
     "name": "stdout",
     "output_type": "stream",
     "text": [
      "<class 'pandas.core.frame.DataFrame'>\n",
      "RangeIndex: 430788 entries, 0 to 430787\n",
      "Data columns (total 14 columns):\n",
      " #   Column                    Non-Null Count   Dtype  \n",
      "---  ------                    --------------   -----  \n",
      " 0   question_id               430788 non-null  int64  \n",
      " 1   question_url              430788 non-null  object \n",
      " 2   question                  430788 non-null  object \n",
      " 3   reference_answer          306178 non-null  object \n",
      " 4   prev_messages             102234 non-null  object \n",
      " 5   model_name                430788 non-null  object \n",
      " 6   model_answer              430788 non-null  object \n",
      " 7   model_reasoning           428151 non-null  object \n",
      " 8   task                      430788 non-null  object \n",
      " 9   question_license          429474 non-null  object \n",
      " 10  question_source           430788 non-null  object \n",
      " 11  community_answer_score    430788 non-null  int64  \n",
      " 12  community_question_score  430788 non-null  int64  \n",
      " 13  verifier_score            338377 non-null  float64\n",
      "dtypes: float64(1), int64(3), object(10)\n",
      "memory usage: 46.0+ MB\n",
      "None\n",
      "\n",
      "Column names:\n",
      "['question_id', 'question_url', 'question', 'reference_answer', 'prev_messages', 'model_name', 'model_answer', 'model_reasoning', 'task', 'question_license', 'question_source', 'community_answer_score', 'community_question_score', 'verifier_score']\n"
     ]
    }
   ],
   "source": [
    "# Check data types, non-null counts, memory usage\n",
    "print(df.info())\n",
    "print(\"\\nColumn names:\")\n",
    "print(df.columns.tolist())"
   ]
  },
  {
   "cell_type": "code",
   "execution_count": 7,
   "id": "ed0b8926",
   "metadata": {},
   "outputs": [
    {
     "name": "stdout",
     "output_type": "stream",
     "text": [
      "\n",
      "Missing values per column:\n",
      "question_id                      0\n",
      "question_url                     0\n",
      "question                         0\n",
      "reference_answer            124610\n",
      "prev_messages               328554\n",
      "model_name                       0\n",
      "model_answer                     0\n",
      "model_reasoning               2637\n",
      "task                             0\n",
      "question_license              1314\n",
      "question_source                  0\n",
      "community_answer_score           0\n",
      "community_question_score         0\n",
      "verifier_score               92411\n",
      "dtype: int64\n",
      "\n",
      "Missing value percentages:\n",
      "question_id                  0.000000\n",
      "question_url                 0.000000\n",
      "question                     0.000000\n",
      "reference_answer            28.926061\n",
      "prev_messages               76.268141\n",
      "model_name                   0.000000\n",
      "model_answer                 0.000000\n",
      "model_reasoning              0.612134\n",
      "task                         0.000000\n",
      "question_license             0.305022\n",
      "question_source              0.000000\n",
      "community_answer_score       0.000000\n",
      "community_question_score     0.000000\n",
      "verifier_score              21.451619\n",
      "dtype: float64\n"
     ]
    }
   ],
   "source": [
    "# Missing value analysis\n",
    "print(\"\\nMissing values per column:\")\n",
    "print(df.isnull().sum())\n",
    "print(\"\\nMissing value percentages:\")\n",
    "print((df.isnull().sum() / len(df)) * 100)"
   ]
  },
  {
   "cell_type": "code",
   "execution_count": 8,
   "id": "722b1bd3",
   "metadata": {},
   "outputs": [
    {
     "name": "stdout",
     "output_type": "stream",
     "text": [
      "\n",
      "Sample of model_reasoning (first 3 rows):\n",
      "\n",
      "--- Row 0 ---\n",
      "Okay, so I need to figure out how the neural respiratory centers work. Let me start by recalling what I know about breathing and the nervous system. I remember that breathing is controlled by parts of the brain, right? There's the medulla and the pons mentioned in some biology classes. But wait, how exactly do they work together?\n",
      "\n",
      "First, there's the medulla oblongata. I think that's the primary control center. It has groups of neurons called the dorsal respiratory group and the ventral respirato\n",
      "\n",
      "--- Row 1 ---\n",
      "Okay, let's see. I need to find the maximum possible force of an array after reordering some elements. The force is calculated by summing the squares of the lengths of consecutive equal elements. So the problem is, given the array generated by a specific recurrence relation, how can I rearrange its elements to maximize this sum of squares?\n",
      "\n",
      "Hmm. The key here is that the optimal arrangement groups as many same elements as possible into the largest possible blocks. Because when you square the leng\n",
      "\n",
      "--- Row 2 ---\n",
      "Okay, so I need to figure out what Aristotle's main criticisms were against Plato's Theory of Forms and how these criticisms show their different views on metaphysics, reality, and knowledge. Let me start by recalling what I know about Plato's Theory of Forms. From what I remember, Plato believed that non-material abstract forms (or ideas) are the most accurate reality. These forms are perfect, unchanging, and exist in a separate realm from the physical world we experience. For example, there's \n"
     ]
    }
   ],
   "source": [
    "# Check if critical text fields are populated\n",
    "print(\"\\nSample of model_reasoning (first 3 rows):\")\n",
    "for i in range(min(3, len(df))):\n",
    "    print(f\"\\n--- Row {i} ---\")\n",
    "    print(df.iloc[i]['model_reasoning'][:500])  # First 500 chars"
   ]
  },
  {
   "cell_type": "code",
   "execution_count": null,
   "id": "0e1ce6b3",
   "metadata": {},
   "outputs": [],
   "source": []
  }
 ],
 "metadata": {
  "kernelspec": {
   "display_name": "Python 3",
   "language": "python",
   "name": "python3"
  },
  "language_info": {
   "codemirror_mode": {
    "name": "ipython",
    "version": 3
   },
   "file_extension": ".py",
   "mimetype": "text/x-python",
   "name": "python",
   "nbconvert_exporter": "python",
   "pygments_lexer": "ipython3",
   "version": "3.13.8"
  }
 },
 "nbformat": 4,
 "nbformat_minor": 5
}
